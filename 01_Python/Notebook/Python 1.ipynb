{
  "nbformat": 4,
  "nbformat_minor": 0,
  "metadata": {
    "colab": {
      "provenance": []
    },
    "kernelspec": {
      "name": "python3",
      "display_name": "Python 3"
    },
    "language_info": {
      "name": "python"
    }
  },
  "cells": [
    {
      "cell_type": "markdown",
      "source": [
        "# Strings"
      ],
      "metadata": {
        "id": "h-rW-TXEMiFr"
      }
    },
    {
      "cell_type": "markdown",
      "source": [
        "1. Write a Python Program to check whether a given string is a palindrome"
      ],
      "metadata": {
        "id": "Ey3PDOCd6MNS"
      }
    },
    {
      "cell_type": "code",
      "execution_count": null,
      "metadata": {
        "id": "apL28IDeMIqG",
        "colab": {
          "base_uri": "https://localhost:8080/"
        },
        "outputId": "0e72aa86-d5fe-4650-fb54-e0289a66aa36"
      },
      "outputs": [
        {
          "output_type": "stream",
          "name": "stdout",
          "text": [
            "madam is Palindrome\n",
            "upgrad is NOT Palindrome\n"
          ]
        }
      ],
      "source": [
        "# Approach 1 : Naive Menthod\n",
        "# Time Complexity: O(n)\n",
        "\n",
        "def naive_palindrome(a):\n",
        "  mid = (len(a) - 1) // 2\n",
        "  start = 0\n",
        "  last = len(a) - 1\n",
        "  flag = 0\n",
        "\n",
        "  while start <= mid:\n",
        "    if a[start] == a[last]:\n",
        "      start += 1\n",
        "      last -= 1\n",
        "    else:\n",
        "      flag = 1\n",
        "      break\n",
        "\n",
        "  if flag == 0:\n",
        "    print(a + ' is Palindrome')\n",
        "  else:\n",
        "    print(a + ' is NOT Palindrome')\n",
        "\n",
        "\n",
        "naive_palindrome('madam')\n",
        "naive_palindrome('upgrad')"
      ]
    },
    {
      "cell_type": "code",
      "source": [
        "# Approach 2 : Slicing Method\n",
        "# Time Complexity: O(n)\n",
        "\n",
        "def slicing_palindrome(a):\n",
        "  half = int(len(a) / 2)\n",
        "\n",
        "  if len(a)%2 != 0:\n",
        "    first_half = a[:half]\n",
        "    second_half = a[half+1:]\n",
        "  else:\n",
        "    first_half = a[:half]\n",
        "    second_half = a[half:]\n",
        "\n",
        "  if first_half == second_half[::-1]:\n",
        "    print(a + ' is Palindrome')\n",
        "  else:\n",
        "    print(a + ' is NOT Palindrome')\n",
        "\n",
        "slicing_palindrome('madam')\n",
        "slicing_palindrome('upgrad')"
      ],
      "metadata": {
        "colab": {
          "base_uri": "https://localhost:8080/"
        },
        "id": "fRKV4GHdNu7k",
        "outputId": "b02875df-28e5-4efe-a00c-7ac69f4a8e71"
      },
      "execution_count": 28,
      "outputs": [
        {
          "output_type": "stream",
          "name": "stdout",
          "text": [
            "madam is Palindrome\n",
            "upgrad is NOT Palindrome\n"
          ]
        }
      ]
    },
    {
      "cell_type": "code",
      "source": [
        "# Approach 3 : using in-built reversed() method\n",
        "# Time Complexity: O(n)\n",
        "\n",
        "def reversed_palindrome(a):\n",
        "  if a == reversed(a):\n",
        "    print(a + ' is Palindrome')\n",
        "  else:\n",
        "    print(a + ' is NOT Palindrome')\n",
        "\n",
        "reversed_palindrome('madam')\n",
        "reversed_palindrome('upgrad')"
      ],
      "metadata": {
        "colab": {
          "base_uri": "https://localhost:8080/"
        },
        "id": "1_opgd4xOgln",
        "outputId": "178b924b-80ba-4c94-96b1-2304d489af1a"
      },
      "execution_count": null,
      "outputs": [
        {
          "output_type": "stream",
          "name": "stdout",
          "text": [
            "madam is NOT Palindrome\n",
            "upgrad is NOT Palindrome\n"
          ]
        }
      ]
    },
    {
      "cell_type": "markdown",
      "source": [
        "2. Given a string s, reverse only all the vowels in the string and return it"
      ],
      "metadata": {
        "id": "aVql55-T6NvF"
      }
    },
    {
      "cell_type": "code",
      "source": [
        "vowel_list = ['a', 'e', 'i', 'o', 'u', 'A', 'E', 'I', 'O', 'U']\n",
        "\n",
        "def reverse_vowel(word):\n",
        "  word = list(word)\n",
        "  left = 0\n",
        "  right = len(word) - 1\n",
        "\n",
        "  while left <= right:\n",
        "    if word[left] not in vowel_list:\n",
        "      left += 1\n",
        "      continue\n",
        "    if word[right] not in vowel_list:\n",
        "      right -= 1\n",
        "      continue\n",
        "\n",
        "    word[left], word[right] = word[right], word[left]\n",
        "    left += 1\n",
        "    right -= 1\n",
        "\n",
        "\n",
        "  return ''.join(word)"
      ],
      "metadata": {
        "id": "Fr7_sQ_qO8Th"
      },
      "execution_count": null,
      "outputs": []
    },
    {
      "cell_type": "code",
      "source": [
        "reverse_vowel('Hello Ritesh')"
      ],
      "metadata": {
        "colab": {
          "base_uri": "https://localhost:8080/",
          "height": 35
        },
        "id": "DPTE9DD88peY",
        "outputId": "8ef30763-e866-4745-e533-6467db0b920a"
      },
      "execution_count": null,
      "outputs": [
        {
          "output_type": "execute_result",
          "data": {
            "text/plain": [
              "'Helli Rotesh'"
            ],
            "application/vnd.google.colaboratory.intrinsic+json": {
              "type": "string"
            }
          },
          "metadata": {},
          "execution_count": 7
        }
      ]
    },
    {
      "cell_type": "markdown",
      "source": [
        "# List, Set, Tuple"
      ],
      "metadata": {
        "id": "F8zSwUNR-RdV"
      }
    },
    {
      "cell_type": "markdown",
      "source": [
        "1. Write a program to flatten a given nested list."
      ],
      "metadata": {
        "id": "5RJV7ZoO-VbR"
      }
    },
    {
      "cell_type": "code",
      "source": [
        "# Using List Comprehension\n",
        "\n",
        "my_list = [[1], [2, 3], [4, 5, 6, 7]]\n",
        "\n",
        "flat_list = [num for sublist in my_list for num in sublist]\n",
        "print(flat_list)"
      ],
      "metadata": {
        "colab": {
          "base_uri": "https://localhost:8080/"
        },
        "id": "7GsUBVxm8szn",
        "outputId": "032e24cd-0949-4bc4-ffa9-072b2198610f"
      },
      "execution_count": null,
      "outputs": [
        {
          "output_type": "stream",
          "name": "stdout",
          "text": [
            "[1, 2, 3, 4, 5, 6, 7]\n"
          ]
        }
      ]
    },
    {
      "cell_type": "code",
      "source": [
        "# Using Nested For Loop\n",
        "\n",
        "my_list = [[1], [2, 3], [4, 5, 6, 7]]\n",
        "\n",
        "flat_list = []\n",
        "for sublist in my_list:\n",
        "    for num in sublist:\n",
        "        flat_list.append(num)\n",
        "\n",
        "print(flat_list)"
      ],
      "metadata": {
        "colab": {
          "base_uri": "https://localhost:8080/"
        },
        "id": "m_du0kL1-1tD",
        "outputId": "fc4434db-d796-47d6-8903-556e7628e4d4"
      },
      "execution_count": null,
      "outputs": [
        {
          "output_type": "stream",
          "name": "stdout",
          "text": [
            "[1, 2, 3, 4, 5, 6, 7]\n"
          ]
        }
      ]
    },
    {
      "cell_type": "code",
      "source": [
        "# Using sum()\n",
        "\n",
        "my_list = [[1], [2, 3], [4, 5, 6, 7]]\n",
        "\n",
        "flat_list = sum(my_list, [])\n",
        "print(flat_list)"
      ],
      "metadata": {
        "colab": {
          "base_uri": "https://localhost:8080/"
        },
        "id": "pXyNHOdK-5Ut",
        "outputId": "6ec7a661-1a88-4a3a-e499-50584c93fe62"
      },
      "execution_count": null,
      "outputs": [
        {
          "output_type": "stream",
          "name": "stdout",
          "text": [
            "[1, 2, 3, 4, 5, 6, 7]\n"
          ]
        }
      ]
    },
    {
      "cell_type": "markdown",
      "source": [
        "2. Write a program to check if the list contains three consecutive common numbers"
      ],
      "metadata": {
        "id": "LJbGhn4F_GX5"
      }
    },
    {
      "cell_type": "code",
      "source": [
        "my_list = [1, 1, 1, 2, 4, 6, 2, 7, 7, 7]\n",
        "\n",
        "for i in range(len(my_list) - 2):\n",
        "  if my_list[i] == my_list[i+1] == my_list[i+2]:\n",
        "    print(my_list[i])"
      ],
      "metadata": {
        "colab": {
          "base_uri": "https://localhost:8080/"
        },
        "id": "GxgokuL8_C8R",
        "outputId": "787d43a3-affc-41e7-d038-4ace6c016106"
      },
      "execution_count": null,
      "outputs": [
        {
          "output_type": "stream",
          "name": "stdout",
          "text": [
            "1\n",
            "7\n"
          ]
        }
      ]
    },
    {
      "cell_type": "code",
      "source": [
        "my_list = [1, 1, 1, 2, 4, 6, 2, 7, 7, 7]\n",
        "\n",
        "for i in range(len(my_list) - 2):\n",
        "  arr = set([my_list[i], my_list[i+1], my_list[i+2]])\n",
        "\n",
        "  if len(arr) == 1:\n",
        "    print(my_list[i])"
      ],
      "metadata": {
        "colab": {
          "base_uri": "https://localhost:8080/"
        },
        "id": "W5wDvW3QAEoV",
        "outputId": "44c34ec0-78ff-4f95-9ae9-6265ad2c1fc1"
      },
      "execution_count": null,
      "outputs": [
        {
          "output_type": "stream",
          "name": "stdout",
          "text": [
            "1\n",
            "7\n"
          ]
        }
      ]
    },
    {
      "cell_type": "code",
      "source": [],
      "metadata": {
        "id": "CAsQSD9dAf0Q"
      },
      "execution_count": null,
      "outputs": []
    },
    {
      "cell_type": "markdown",
      "source": [
        "# Dictionary"
      ],
      "metadata": {
        "id": "DIEH05ql66SX"
      }
    },
    {
      "cell_type": "markdown",
      "source": [
        "1. Write a program to sort a dictionary based on keys and values."
      ],
      "metadata": {
        "id": "6cSFHHJ_9UPq"
      }
    },
    {
      "cell_type": "code",
      "source": [
        "my_dictionary = {\n",
        "    10: 'Ritesh',\n",
        "    5: 'Aakash',\n",
        "    25: 'Emily',\n",
        "    54: 'John',\n",
        "    13: 'Taylor'\n",
        "}"
      ],
      "metadata": {
        "id": "5Y2zHm6L9Skz"
      },
      "execution_count": null,
      "outputs": []
    },
    {
      "cell_type": "code",
      "source": [
        "my_keys = list(my_dictionary.keys())\n",
        "my_keys.sort()\n",
        "sorted_dictionary_keys = {i: my_dictionary[i] for i in my_keys}\n",
        "print(sorted_dictionary_keys)"
      ],
      "metadata": {
        "colab": {
          "base_uri": "https://localhost:8080/"
        },
        "id": "qNzeUWXK_4ca",
        "outputId": "21165365-8df4-4801-8d89-8ac14bf306e6"
      },
      "execution_count": null,
      "outputs": [
        {
          "output_type": "stream",
          "name": "stdout",
          "text": [
            "{5: 'Aakash', 10: 'Ritesh', 13: 'Taylor', 25: 'Emily', 54: 'John'}\n"
          ]
        }
      ]
    },
    {
      "cell_type": "code",
      "source": [
        "sorted_dictionary_values = sorted(my_dictionary.items(), key=lambda kv: (kv[1], kv[0]))"
      ],
      "metadata": {
        "id": "_TkOoJ7xB3UV"
      },
      "execution_count": null,
      "outputs": []
    },
    {
      "cell_type": "code",
      "source": [
        "dict(sorted_dictionary_values)"
      ],
      "metadata": {
        "colab": {
          "base_uri": "https://localhost:8080/"
        },
        "id": "cRh30lE2Qksa",
        "outputId": "584fdb6c-1b58-4ff8-e4af-c4e4fb2920d9"
      },
      "execution_count": null,
      "outputs": [
        {
          "output_type": "execute_result",
          "data": {
            "text/plain": [
              "{5: 'Aakash', 25: 'Emily', 54: 'John', 10: 'Ritesh', 13: 'Taylor'}"
            ]
          },
          "metadata": {},
          "execution_count": 38
        }
      ]
    },
    {
      "cell_type": "markdown",
      "source": [
        "2. Write a program for Counting the frequencies in a list using a dictionary in Python."
      ],
      "metadata": {
        "id": "m1EKBX-yRckJ"
      }
    },
    {
      "cell_type": "code",
      "source": [
        "my_list = [1, 1, 1, 1, 3, 4, 2, 3, 2, 5, 2, 3, 1, 3, 2, 1]"
      ],
      "metadata": {
        "id": "XmdOWTKXRg8y"
      },
      "execution_count": null,
      "outputs": []
    },
    {
      "cell_type": "code",
      "source": [
        "frequency_dictionary = dict()\n",
        "for i in my_list:\n",
        "  frequency_dictionary[i] = frequency_dictionary.get(i, 0) + 1\n",
        "\n",
        "frequency_dictionary"
      ],
      "metadata": {
        "colab": {
          "base_uri": "https://localhost:8080/"
        },
        "id": "aczY8eglSBGk",
        "outputId": "b46cdfa5-b6a6-4566-f172-8f1a1f2938b5"
      },
      "execution_count": null,
      "outputs": [
        {
          "output_type": "execute_result",
          "data": {
            "text/plain": [
              "{1: 6, 3: 4, 4: 1, 2: 4, 5: 1}"
            ]
          },
          "metadata": {},
          "execution_count": 42
        }
      ]
    },
    {
      "cell_type": "markdown",
      "source": [
        "# Control Structures"
      ],
      "metadata": {
        "id": "EVmBvdPB68xf"
      }
    },
    {
      "cell_type": "markdown",
      "source": [
        "Write a Python program to construct the following pattern, using a nested for loop.\n",
        "```\n",
        "*\n",
        "* *\n",
        "* * *\n",
        "* * * *\n",
        "* * * * *\n",
        "* * * *\n",
        "* * *\n",
        "* *\n",
        "*\n",
        "```\n",
        "\n"
      ],
      "metadata": {
        "id": "HKXw903TT1bR"
      }
    },
    {
      "cell_type": "code",
      "source": [
        "n = 5\n",
        "for i in range(1, n):\n",
        "  print(i*'* ')\n",
        "\n",
        "for i in range(n, 0, -1):\n",
        "  print(i*'* ')"
      ],
      "metadata": {
        "id": "-E455foE7Au7",
        "colab": {
          "base_uri": "https://localhost:8080/"
        },
        "outputId": "b9ce808d-2355-471e-8262-32e5384408d9"
      },
      "execution_count": null,
      "outputs": [
        {
          "output_type": "stream",
          "name": "stdout",
          "text": [
            "* \n",
            "* * \n",
            "* * * \n",
            "* * * * \n",
            "* * * * * \n",
            "* * * * \n",
            "* * * \n",
            "* * \n",
            "* \n"
          ]
        }
      ]
    },
    {
      "cell_type": "markdown",
      "source": [
        "2. Write a program to find out the factorial of a given number."
      ],
      "metadata": {
        "id": "kBDz2HqkWHQr"
      }
    },
    {
      "cell_type": "code",
      "source": [
        "num = 5\n",
        "\n",
        "factorial = 1\n",
        "\n",
        "if num < 0:\n",
        "  print('Factorial of negative number does not exist')\n",
        "elif num == 0:\n",
        "  print('Factorial of 0 is 1')\n",
        "else:\n",
        "  for i in range(1, num+1):\n",
        "    factorial *= i\n",
        "  print('The factorial of', num, 'is', factorial)"
      ],
      "metadata": {
        "colab": {
          "base_uri": "https://localhost:8080/"
        },
        "id": "dP2T1hTNWI0i",
        "outputId": "510b7a51-648c-4782-ad57-352b53ea60c3"
      },
      "execution_count": null,
      "outputs": [
        {
          "output_type": "stream",
          "name": "stdout",
          "text": [
            "The factorial of 5 is 120\n"
          ]
        }
      ]
    }
  ]
}